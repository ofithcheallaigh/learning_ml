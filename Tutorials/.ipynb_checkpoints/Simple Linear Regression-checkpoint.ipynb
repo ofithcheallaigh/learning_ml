{
 "cells": [
  {
   "cell_type": "markdown",
   "metadata": {},
   "source": [
    "# Simple Linear Regression\n",
    "\n",
    "A simple linear regression is essentially this equation:\n",
    "\n",
    "\\begin{equation*}\n",
    "y = b_0 + b_1 \\cdot x_1\n",
    "\\end{equation*}\n",
    "\n",
    "This is an equation for a trend line, or a slope on and xy axis. In this equation, $y$ is the dependent variable (DV), it is what we are trying to explain. $x$ is the independent variable (IV). We assume the independent variable is causing the dependant variable to change. Since this is simple linear regression, we only have one independent variable. $b_1$ is a coefficient for the indepent variable. This coeffeicient tells us how a unit change in $x_1$ effects a unit change in $y$. "
   ]
  },
  {
   "cell_type": "code",
   "execution_count": null,
   "metadata": {},
   "outputs": [],
   "source": []
  }
 ],
 "metadata": {
  "kernelspec": {
   "display_name": "Python 3",
   "language": "python",
   "name": "python3"
  },
  "language_info": {
   "codemirror_mode": {
    "name": "ipython",
    "version": 3
   },
   "file_extension": ".py",
   "mimetype": "text/x-python",
   "name": "python",
   "nbconvert_exporter": "python",
   "pygments_lexer": "ipython3",
   "version": "3.8.1"
  }
 },
 "nbformat": 4,
 "nbformat_minor": 4
}
